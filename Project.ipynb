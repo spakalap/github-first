{
  "nbformat": 4,
  "nbformat_minor": 0,
  "metadata": {
    "colab": {
      "name": "Project.ipynb",
      "provenance": []
    },
    "kernelspec": {
      "name": "python3",
      "display_name": "Python 3"
    }
  },
  "cells": [
    {
      "cell_type": "markdown",
      "metadata": {
        "id": "twxcgYy0YKpm",
        "colab_type": "text"
      },
      "source": [
        "# APPLIED DATA SCIENCE CAPSTONE\n",
        "\n",
        "This note book will be used to implement the capstone project, Applied Data Science Capstone, under coursera IBM Data Science Professional Certificate. "
      ]
    },
    {
      "cell_type": "code",
      "metadata": {
        "id": "VQb0UwF_YJhP",
        "colab_type": "code",
        "colab": {}
      },
      "source": [
        "import pandas as pd\n",
        "import numpy as py"
      ],
      "execution_count": 2,
      "outputs": []
    },
    {
      "cell_type": "code",
      "metadata": {
        "id": "I5hH3yNhZEpX",
        "colab_type": "code",
        "colab": {
          "base_uri": "https://localhost:8080/",
          "height": 34
        },
        "outputId": "d64f3067-4430-43a4-f30d-b5b5bbf1d96c"
      },
      "source": [
        "print('Hello Capstone Project Course!')"
      ],
      "execution_count": 3,
      "outputs": [
        {
          "output_type": "stream",
          "text": [
            "Hello Capstone Project Course!\n"
          ],
          "name": "stdout"
        }
      ]
    }
  ]
}